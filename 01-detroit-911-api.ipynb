{
 "cells": [
  {
   "cell_type": "code",
   "execution_count": 3,
   "id": "0b663350",
   "metadata": {},
   "outputs": [],
   "source": [
    "import pandas as pd\n",
    "import requests\n",
    "import time #needed to pause between API requests"
   ]
  },
  {
   "cell_type": "markdown",
   "id": "ef2d8e6c",
   "metadata": {},
   "source": [
    "# API Request"
   ]
  },
  {
   "cell_type": "markdown",
   "id": "679d28df",
   "metadata": {},
   "source": [
    "## Documentation\n",
    "\n",
    "911 calls for service data:\n",
    "https://data.detroitmi.gov/datasets/detroitmi::911-calls-for-service/explore<br>\n",
    "\n",
    "API:<br>\n",
    "ESRI Docs: https://developers.arcgis.com/documentation/ (general reference for ESRI)<br>\n",
    "Developers- Socrata AND ESRI\n",
    "https://data.detroitmi.gov/pages/developers<br>\n",
    "API Explorer (query commands): https://developers.arcgis.com/rest/services-reference/enterprise/query-feature-service-layer-.htm<br>\n",
    "\n",
    "Detroit example:\n",
    "https://machine.domain.com/webadaptor/rest/services/Earthquakes/EarthquakesFromLastSevenDays/FeatureServer/0/query?where=magnitude+%3E+4.5&outFields=*&returnGeometry=true&returnIdsOnly=false&f=html"
   ]
  },
  {
   "cell_type": "markdown",
   "id": "9d7fa938",
   "metadata": {},
   "source": [
    "### Define API Request"
   ]
  },
  {
   "cell_type": "code",
   "execution_count": 4,
   "id": "7144cdbf",
   "metadata": {},
   "outputs": [],
   "source": [
    "url = \"https://services2.arcgis.com/qvkbeam7Wirps6zC/arcgis/rest/services/911_Calls_New/FeatureServer/0/query\"\n",
    "parameters = {\n",
    "    \"where\": \"category in ('MNTLARM','MNTLNARM','MENTPPRS','WBC','SUICIP','SUICTHRT')\",\n",
    "    \"outFields\": \"incident_id,agency,priority,category,call_timestamp,officerinitiated,respondingunit\",\n",
    "    \"outSR\":\"4326\",\n",
    "    \"f\":\"json\",\n",
    "    \"resultRecordCount\":1000,\n",
    "    \"resultOffset\":0\n",
    "}"
   ]
  },
  {
   "cell_type": "markdown",
   "id": "3a612c95",
   "metadata": {},
   "source": [
    "### Retrieve One Batch (1000 records)"
   ]
  },
  {
   "cell_type": "code",
   "execution_count": null,
   "id": "26d5a63c",
   "metadata": {},
   "outputs": [],
   "source": [
    "#simple request, this worked\n",
    "#url = \"https://services2.arcgis.com/qvkbeam7Wirps6zC/arcgis/rest/services/911_Calls_New/FeatureServer/0/query?where=1%3D1&outFields=incident_id,agency,priority,category,call_timestamp,officerinitiated,respondingunit&outSR=4326&f=json\""
   ]
  },
  {
   "cell_type": "code",
   "execution_count": 47,
   "id": "2526f896",
   "metadata": {},
   "outputs": [],
   "source": [
    "# #run the query\n",
    "# response = requests.get(url, params=parameters)\n",
    "# data_1_batch = response.json()\n",
    "# #print (data_1_batch)"
   ]
  },
  {
   "cell_type": "code",
   "execution_count": 48,
   "id": "1d3df1a0",
   "metadata": {},
   "outputs": [],
   "source": [
    "#look at the data\n",
    "\n",
    "#data_1_batch\n",
    "#data_1_batch['fields']\n",
    "#data_1_batch['features']"
   ]
  },
  {
   "cell_type": "code",
   "execution_count": 49,
   "id": "40c95be9",
   "metadata": {},
   "outputs": [],
   "source": [
    "#use .pop command to open up each list of dictionaries\n",
    "# list_calls = [{**call.pop('attributes')} for call in data_1_batch['features']]\n",
    "# df_detroit_api = pd.DataFrame(list_calls)\n",
    "# df_detroit_api"
   ]
  },
  {
   "cell_type": "markdown",
   "id": "ddbdef6c",
   "metadata": {},
   "source": [
    "### Retrieve Multiple Batches (1000 records at a time)"
   ]
  },
  {
   "cell_type": "code",
   "execution_count": 43,
   "id": "399acdbe",
   "metadata": {},
   "outputs": [],
   "source": [
    "#test with a small batch\n",
    "# all_data = []\n",
    "\n",
    "# i = 1\n",
    "# while i <5:\n",
    "#     response = requests.get(url, params=parameters)\n",
    "#     data = response.json()\n",
    "    \n",
    "#     if not data.get(\"features\"):\n",
    "#         break\n",
    "    \n",
    "#     all_data.extend(data[\"features\"])\n",
    "    \n",
    "#     parameters[\"resultOffset\"] += parameters[\"resultRecordCount\"]\n",
    "    \n",
    "#     time.sleep(1) # Wait for 1 second before the next request\n",
    "\n",
    "#     i+=1\n",
    "    \n",
    "# print(all_data)"
   ]
  },
  {
   "cell_type": "code",
   "execution_count": 5,
   "id": "50c13ebb",
   "metadata": {},
   "outputs": [],
   "source": [
    "#because Detroit limits me to 1000 records per request, I need to loop through repeated requests until done\n",
    "#this takes about 5-10 minutes to run, with a 2 second pause for each of about 100 requests\n",
    "\n",
    "all_data = []\n",
    "\n",
    "while True:\n",
    "    response = requests.get(url, params=parameters)\n",
    "    data = response.json()\n",
    "    \n",
    "    if not data.get(\"features\"):\n",
    "        break\n",
    "    \n",
    "    all_data.extend(data[\"features\"])\n",
    "    \n",
    "    parameters[\"resultOffset\"] += parameters[\"resultRecordCount\"]\n",
    "    \n",
    "    time.sleep(5) # Wait for 2 seconds before the next request\n",
    "\n",
    "# print(all_data)"
   ]
  },
  {
   "cell_type": "code",
   "execution_count": 6,
   "id": "3f7499dd",
   "metadata": {},
   "outputs": [
    {
     "data": {
      "text/html": [
       "<div>\n",
       "<style scoped>\n",
       "    .dataframe tbody tr th:only-of-type {\n",
       "        vertical-align: middle;\n",
       "    }\n",
       "\n",
       "    .dataframe tbody tr th {\n",
       "        vertical-align: top;\n",
       "    }\n",
       "\n",
       "    .dataframe thead th {\n",
       "        text-align: right;\n",
       "    }\n",
       "</style>\n",
       "<table border=\"1\" class=\"dataframe\">\n",
       "  <thead>\n",
       "    <tr style=\"text-align: right;\">\n",
       "      <th></th>\n",
       "      <th>incident_id</th>\n",
       "      <th>agency</th>\n",
       "      <th>priority</th>\n",
       "      <th>category</th>\n",
       "      <th>call_timestamp</th>\n",
       "      <th>officerinitiated</th>\n",
       "      <th>respondingunit</th>\n",
       "    </tr>\n",
       "  </thead>\n",
       "  <tbody>\n",
       "    <tr>\n",
       "      <th>0</th>\n",
       "      <td>201626402101</td>\n",
       "      <td>DPD</td>\n",
       "      <td>3</td>\n",
       "      <td>MENTPPRS</td>\n",
       "      <td>1474413140000</td>\n",
       "      <td>No</td>\n",
       "      <td></td>\n",
       "    </tr>\n",
       "    <tr>\n",
       "      <th>1</th>\n",
       "      <td>201626402108</td>\n",
       "      <td>DPD</td>\n",
       "      <td>3</td>\n",
       "      <td>WBC</td>\n",
       "      <td>1474413282000</td>\n",
       "      <td>No</td>\n",
       "      <td>A0703</td>\n",
       "    </tr>\n",
       "    <tr>\n",
       "      <th>2</th>\n",
       "      <td>201626401001</td>\n",
       "      <td>DPD</td>\n",
       "      <td>3</td>\n",
       "      <td>MENTPPRS</td>\n",
       "      <td>1474391088000</td>\n",
       "      <td>No</td>\n",
       "      <td>D1007</td>\n",
       "    </tr>\n",
       "    <tr>\n",
       "      <th>3</th>\n",
       "      <td>201626401066</td>\n",
       "      <td>DPD</td>\n",
       "      <td>3</td>\n",
       "      <td>MENTPPRS</td>\n",
       "      <td>1474392442000</td>\n",
       "      <td>No</td>\n",
       "      <td></td>\n",
       "    </tr>\n",
       "    <tr>\n",
       "      <th>4</th>\n",
       "      <td>201626401162</td>\n",
       "      <td>DPD</td>\n",
       "      <td>3</td>\n",
       "      <td>MENTPPRS</td>\n",
       "      <td>1474394806000</td>\n",
       "      <td>No</td>\n",
       "      <td>A0304</td>\n",
       "    </tr>\n",
       "    <tr>\n",
       "      <th>...</th>\n",
       "      <td>...</td>\n",
       "      <td>...</td>\n",
       "      <td>...</td>\n",
       "      <td>...</td>\n",
       "      <td>...</td>\n",
       "      <td>...</td>\n",
       "      <td>...</td>\n",
       "    </tr>\n",
       "    <tr>\n",
       "      <th>103262</th>\n",
       "      <td>202323600572</td>\n",
       "      <td>DPD</td>\n",
       "      <td>2</td>\n",
       "      <td>MNTLNARM</td>\n",
       "      <td>1692861034000</td>\n",
       "      <td>No</td>\n",
       "      <td>M0302</td>\n",
       "    </tr>\n",
       "    <tr>\n",
       "      <th>103263</th>\n",
       "      <td>202323601099</td>\n",
       "      <td>DPD</td>\n",
       "      <td>1</td>\n",
       "      <td>MNTLARM</td>\n",
       "      <td>1692879011000</td>\n",
       "      <td>No</td>\n",
       "      <td>D1211</td>\n",
       "    </tr>\n",
       "    <tr>\n",
       "      <th>103264</th>\n",
       "      <td>202323601138</td>\n",
       "      <td>DPD</td>\n",
       "      <td>2</td>\n",
       "      <td>MNTLNARM</td>\n",
       "      <td>1692879686000</td>\n",
       "      <td>No</td>\n",
       "      <td>D0709</td>\n",
       "    </tr>\n",
       "    <tr>\n",
       "      <th>103265</th>\n",
       "      <td>202323601197</td>\n",
       "      <td>DPD</td>\n",
       "      <td>2</td>\n",
       "      <td>MNTLNARM</td>\n",
       "      <td>1692880851000</td>\n",
       "      <td>No</td>\n",
       "      <td>D0502</td>\n",
       "    </tr>\n",
       "    <tr>\n",
       "      <th>103266</th>\n",
       "      <td>202323601215</td>\n",
       "      <td>DPD</td>\n",
       "      <td>3</td>\n",
       "      <td>WBC</td>\n",
       "      <td>1692881224000</td>\n",
       "      <td>No</td>\n",
       "      <td>DTS12</td>\n",
       "    </tr>\n",
       "  </tbody>\n",
       "</table>\n",
       "<p>103267 rows × 7 columns</p>\n",
       "</div>"
      ],
      "text/plain": [
       "         incident_id agency priority  category  call_timestamp  \\\n",
       "0       201626402101   DPD         3  MENTPPRS   1474413140000   \n",
       "1       201626402108   DPD         3  WBC        1474413282000   \n",
       "2       201626401001   DPD         3  MENTPPRS   1474391088000   \n",
       "3       201626401066   DPD         3  MENTPPRS   1474392442000   \n",
       "4       201626401162   DPD         3  MENTPPRS   1474394806000   \n",
       "...              ...    ...      ...       ...             ...   \n",
       "103262  202323600572   DPD         2  MNTLNARM   1692861034000   \n",
       "103263  202323601099   DPD         1  MNTLARM    1692879011000   \n",
       "103264  202323601138   DPD         2  MNTLNARM   1692879686000   \n",
       "103265  202323601197   DPD         2  MNTLNARM   1692880851000   \n",
       "103266  202323601215   DPD         3  WBC        1692881224000   \n",
       "\n",
       "       officerinitiated respondingunit  \n",
       "0                    No                 \n",
       "1                    No         A0703   \n",
       "2                    No         D1007   \n",
       "3                    No                 \n",
       "4                    No         A0304   \n",
       "...                 ...            ...  \n",
       "103262               No         M0302   \n",
       "103263               No         D1211   \n",
       "103264               No         D0709   \n",
       "103265               No         D0502   \n",
       "103266               No         DTS12   \n",
       "\n",
       "[103267 rows x 7 columns]"
      ]
     },
     "execution_count": 6,
     "metadata": {},
     "output_type": "execute_result"
    }
   ],
   "source": [
    "list_calls = [{**call.pop('attributes')} for call in all_data]\n",
    "df_detroit_api = pd.DataFrame(list_calls)\n",
    "df_detroit_api"
   ]
  },
  {
   "cell_type": "code",
   "execution_count": 7,
   "id": "1c6ecc6d",
   "metadata": {},
   "outputs": [],
   "source": [
    "df_detroit_api.to_csv(\"2023_08_25_detroit_911_mh.csv\")"
   ]
  },
  {
   "cell_type": "code",
   "execution_count": null,
   "id": "83ff8821",
   "metadata": {},
   "outputs": [],
   "source": []
  }
 ],
 "metadata": {
  "kernelspec": {
   "display_name": "Python 3 (ipykernel)",
   "language": "python",
   "name": "python3"
  },
  "language_info": {
   "codemirror_mode": {
    "name": "ipython",
    "version": 3
   },
   "file_extension": ".py",
   "mimetype": "text/x-python",
   "name": "python",
   "nbconvert_exporter": "python",
   "pygments_lexer": "ipython3",
   "version": "3.10.12"
  }
 },
 "nbformat": 4,
 "nbformat_minor": 5
}
