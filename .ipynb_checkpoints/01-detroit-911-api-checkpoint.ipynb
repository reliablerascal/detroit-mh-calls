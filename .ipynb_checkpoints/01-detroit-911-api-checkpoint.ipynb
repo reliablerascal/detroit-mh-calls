{
 "cells": [
  {
   "cell_type": "code",
   "execution_count": 1,
   "id": "0b663350",
   "metadata": {},
   "outputs": [],
   "source": [
    "import pandas as pd\n",
    "import requests"
   ]
  },
  {
   "cell_type": "markdown",
   "id": "ef2d8e6c",
   "metadata": {},
   "source": [
    "# API Request"
   ]
  },
  {
   "cell_type": "markdown",
   "id": "679d28df",
   "metadata": {},
   "source": [
    "## API Documentation\n",
    "\n",
    "ESRI Docs: https://developers.arcgis.com/documentation/ (general reference for ESRI)<br>\n",
    "911 calls for service data:\n",
    "https://data.detroitmi.gov/datasets/detroitmi::911-calls-for-service/explore<br>\n",
    "Developers- Socrata AND ESRI\n",
    "https://data.detroitmi.gov/pages/developers<br>\n",
    "API Explorer (query commands): https://developers.arcgis.com/rest/services-reference/enterprise/query-feature-service-layer-.htm<br>\n",
    "\n",
    "For Chicago, I did this:\n",
    "select = \"station_id, stationname, date_extract_y(date) as year,count(rides) as nDays,sum(rides) as nRides\"<br>\n",
    "where = \"year between 2019 and 2022\"<br>\n",
    "group_by = \"station_id,stationname, year\"<br>\n",
    "limit = 9999<br>\n",
    "\n",
    "url = f\"https://data.cityofchicago.org/resource/5neh-572f.json?$SELECT={select}&$WHERE={where}&$GROUP={group_by}&$LIMIT={limit}\"<br>\n",
    "\n",
    "Detroit example:\n",
    "https://machine.domain.com/webadaptor/rest/services/Earthquakes/EarthquakesFromLastSevenDays/FeatureServer/0/query?where=magnitude+%3E+4.5&outFields=*&returnGeometry=true&returnIdsOnly=false&f=html"
   ]
  },
  {
   "cell_type": "markdown",
   "id": "67c81e6e",
   "metadata": {},
   "source": [
    "### Get 911 data"
   ]
  },
  {
   "cell_type": "code",
   "execution_count": 77,
   "id": "7144cdbf",
   "metadata": {},
   "outputs": [
    {
     "ename": "SyntaxError",
     "evalue": "invalid decimal literal (1827571501.py, line 11)",
     "output_type": "error",
     "traceback": [
      "\u001b[0;36m  File \u001b[0;32m\"/tmp/ipykernel_4293/1827571501.py\"\u001b[0;36m, line \u001b[0;32m11\u001b[0m\n\u001b[0;31m    url = https://services2.arcgis.com/qvkbeam7Wirps6zC/arcgis/rest/services/911_Calls_New/FeatureServer/0/query?where=category in ('MNTLARM','MNTLNARM','MENTPPRS','WBC','SUICIP','SUICTHRT')&outFields=incident_id,agency,priority,category,call_timestamp,officerinitiated,respondingunit&outSR=4326&f=json\u001b[0m\n\u001b[0m                                                                                ^\u001b[0m\n\u001b[0;31mSyntaxError\u001b[0m\u001b[0;31m:\u001b[0m invalid decimal literal\n"
     ]
    }
   ],
   "source": [
    "#full dataset\n",
    "#url = \"https://services2.arcgis.com/qvkbeam7Wirps6zC/arcgis/rest/services/911_Calls_New/FeatureServer/0/query?outFields=*&where=1%3D1&f=geojson\"\n",
    "\n",
    "#this worked\n",
    "#url = \"https://services2.arcgis.com/qvkbeam7Wirps6zC/arcgis/rest/services/911_Calls_New/FeatureServer/0/query?where=1%3D1&outFields=incident_id,agency,priority,category,call_timestamp,officerinitiated,respondingunit&outSR=4326&f=json\"\n",
    "\n",
    "#where = \"category in ('MNTLARM','MNTLNARM','MENTPPRS','WBC','SUICIP','SUICTHRT')\"\n",
    "\n",
    "#url = f\"https://services2.arcgis.com/qvkbeam7Wirps6zC/arcgis/rest/services/911_Calls_New/FeatureServer/0/query?where={where}outFields=incident_id,agency,priority,category,call_timestamp,officerinitiated,respondingunit&outSR=4326&f=json\"\n",
    "#url\n",
    "url = https://services2.arcgis.com/qvkbeam7Wirps6zC/arcgis/rest/services/911_Calls_New/FeatureServer/0/query?where=category in ('MNTLARM','MNTLNARM','MENTPPRS','WBC','SUICIP','SUICTHRT')&outFields=incident_id,agency,priority,category,call_timestamp,officerinitiated,respondingunit&outSR=4326&f=json"
   ]
  },
  {
   "cell_type": "code",
   "execution_count": 74,
   "id": "2526f896",
   "metadata": {},
   "outputs": [
    {
     "name": "stdout",
     "output_type": "stream",
     "text": [
      "<Response [200]>\n"
     ]
    }
   ],
   "source": [
    "#run the query\n",
    "response = requests.get(url)\n",
    "data = response.json()\n",
    "print (response)"
   ]
  },
  {
   "cell_type": "code",
   "execution_count": 75,
   "id": "c2fb3a1d",
   "metadata": {},
   "outputs": [
    {
     "ename": "KeyError",
     "evalue": "'features'",
     "output_type": "error",
     "traceback": [
      "\u001b[0;31m---------------------------------------------------------------------------\u001b[0m",
      "\u001b[0;31mKeyError\u001b[0m                                  Traceback (most recent call last)",
      "\u001b[0;32m/tmp/ipykernel_4293/1248935468.py\u001b[0m in \u001b[0;36m<module>\u001b[0;34m\u001b[0m\n\u001b[1;32m      4\u001b[0m \u001b[0;34m\u001b[0m\u001b[0m\n\u001b[1;32m      5\u001b[0m \u001b[0;31m#This gives me a nested list of dictionaries\u001b[0m\u001b[0;34m\u001b[0m\u001b[0;34m\u001b[0m\u001b[0m\n\u001b[0;32m----> 6\u001b[0;31m \u001b[0mdata\u001b[0m\u001b[0;34m[\u001b[0m\u001b[0;34m'features'\u001b[0m\u001b[0;34m]\u001b[0m\u001b[0;34m\u001b[0m\u001b[0;34m\u001b[0m\u001b[0m\n\u001b[0m",
      "\u001b[0;31mKeyError\u001b[0m: 'features'"
     ]
    }
   ],
   "source": [
    "#look at the data\n",
    "#data['features'][0]['attributes']\n",
    "#data['fields'] is the header\n",
    "\n",
    "#This gives me a nested list of dictionaries\n",
    "data['features']"
   ]
  },
  {
   "cell_type": "code",
   "execution_count": 72,
   "id": "40c95be9",
   "metadata": {},
   "outputs": [
    {
     "data": {
      "text/html": [
       "<div>\n",
       "<style scoped>\n",
       "    .dataframe tbody tr th:only-of-type {\n",
       "        vertical-align: middle;\n",
       "    }\n",
       "\n",
       "    .dataframe tbody tr th {\n",
       "        vertical-align: top;\n",
       "    }\n",
       "\n",
       "    .dataframe thead th {\n",
       "        text-align: right;\n",
       "    }\n",
       "</style>\n",
       "<table border=\"1\" class=\"dataframe\">\n",
       "  <thead>\n",
       "    <tr style=\"text-align: right;\">\n",
       "      <th></th>\n",
       "      <th>incident_id</th>\n",
       "      <th>agency</th>\n",
       "      <th>priority</th>\n",
       "      <th>category</th>\n",
       "      <th>call_timestamp</th>\n",
       "      <th>officerinitiated</th>\n",
       "      <th>respondingunit</th>\n",
       "    </tr>\n",
       "  </thead>\n",
       "  <tbody>\n",
       "    <tr>\n",
       "      <th>0</th>\n",
       "      <td>1160010009</td>\n",
       "      <td>DPD</td>\n",
       "      <td></td>\n",
       "      <td>TIBHIS</td>\n",
       "      <td>1451624575000</td>\n",
       "      <td>No</td>\n",
       "      <td>0330</td>\n",
       "    </tr>\n",
       "    <tr>\n",
       "      <th>1</th>\n",
       "      <td>1160010016</td>\n",
       "      <td>DPD</td>\n",
       "      <td></td>\n",
       "      <td>TIBHIS</td>\n",
       "      <td>1451624648000</td>\n",
       "      <td>No</td>\n",
       "      <td></td>\n",
       "    </tr>\n",
       "    <tr>\n",
       "      <th>2</th>\n",
       "      <td>1160010031</td>\n",
       "      <td>DPD</td>\n",
       "      <td></td>\n",
       "      <td>TIBHIS</td>\n",
       "      <td>1451624777000</td>\n",
       "      <td>No</td>\n",
       "      <td>1103</td>\n",
       "    </tr>\n",
       "    <tr>\n",
       "      <th>3</th>\n",
       "      <td>1160010042</td>\n",
       "      <td>DPD</td>\n",
       "      <td></td>\n",
       "      <td>TIBHIS</td>\n",
       "      <td>1451624907000</td>\n",
       "      <td>No</td>\n",
       "      <td>1204</td>\n",
       "    </tr>\n",
       "    <tr>\n",
       "      <th>4</th>\n",
       "      <td>1160010050</td>\n",
       "      <td>DPD</td>\n",
       "      <td></td>\n",
       "      <td>TIBHIS</td>\n",
       "      <td>1451624976000</td>\n",
       "      <td>No</td>\n",
       "      <td></td>\n",
       "    </tr>\n",
       "    <tr>\n",
       "      <th>...</th>\n",
       "      <td>...</td>\n",
       "      <td>...</td>\n",
       "      <td>...</td>\n",
       "      <td>...</td>\n",
       "      <td>...</td>\n",
       "      <td>...</td>\n",
       "      <td>...</td>\n",
       "    </tr>\n",
       "    <tr>\n",
       "      <th>995</th>\n",
       "      <td>1160030494</td>\n",
       "      <td>DPD</td>\n",
       "      <td></td>\n",
       "      <td>TIBHIS</td>\n",
       "      <td>1451820853000</td>\n",
       "      <td>No</td>\n",
       "      <td>0802</td>\n",
       "    </tr>\n",
       "    <tr>\n",
       "      <th>996</th>\n",
       "      <td>1160030497</td>\n",
       "      <td>DPD</td>\n",
       "      <td></td>\n",
       "      <td>TRF STOP</td>\n",
       "      <td>1451821018000</td>\n",
       "      <td>No</td>\n",
       "      <td>0804</td>\n",
       "    </tr>\n",
       "    <tr>\n",
       "      <th>997</th>\n",
       "      <td>1160030506</td>\n",
       "      <td>DPD</td>\n",
       "      <td></td>\n",
       "      <td>TIBHIS</td>\n",
       "      <td>1451822708000</td>\n",
       "      <td>No</td>\n",
       "      <td></td>\n",
       "    </tr>\n",
       "    <tr>\n",
       "      <th>998</th>\n",
       "      <td>1160030510</td>\n",
       "      <td>DPD</td>\n",
       "      <td></td>\n",
       "      <td>TIBHIS</td>\n",
       "      <td>1451822996000</td>\n",
       "      <td>No</td>\n",
       "      <td>0610</td>\n",
       "    </tr>\n",
       "    <tr>\n",
       "      <th>999</th>\n",
       "      <td>1160030512</td>\n",
       "      <td>DPD</td>\n",
       "      <td></td>\n",
       "      <td>TIBHIS</td>\n",
       "      <td>1451823183000</td>\n",
       "      <td>No</td>\n",
       "      <td>0602</td>\n",
       "    </tr>\n",
       "  </tbody>\n",
       "</table>\n",
       "<p>1000 rows × 7 columns</p>\n",
       "</div>"
      ],
      "text/plain": [
       "    incident_id agency priority  category  call_timestamp officerinitiated  \\\n",
       "0    1160010009   DPD            TIBHIS     1451624575000               No   \n",
       "1    1160010016   DPD            TIBHIS     1451624648000               No   \n",
       "2    1160010031   DPD            TIBHIS     1451624777000               No   \n",
       "3    1160010042   DPD            TIBHIS     1451624907000               No   \n",
       "4    1160010050   DPD            TIBHIS     1451624976000               No   \n",
       "..          ...    ...      ...       ...             ...              ...   \n",
       "995  1160030494   DPD            TIBHIS     1451820853000               No   \n",
       "996  1160030497   DPD            TRF STOP   1451821018000               No   \n",
       "997  1160030506   DPD            TIBHIS     1451822708000               No   \n",
       "998  1160030510   DPD            TIBHIS     1451822996000               No   \n",
       "999  1160030512   DPD            TIBHIS     1451823183000               No   \n",
       "\n",
       "    respondingunit  \n",
       "0           0330    \n",
       "1                   \n",
       "2           1103    \n",
       "3           1204    \n",
       "4                   \n",
       "..             ...  \n",
       "995         0802    \n",
       "996         0804    \n",
       "997                 \n",
       "998         0610    \n",
       "999         0602    \n",
       "\n",
       "[1000 rows x 7 columns]"
      ]
     },
     "execution_count": 72,
     "metadata": {},
     "output_type": "execute_result"
    }
   ],
   "source": [
    "#use .pop command to open up each list of dictionaries\n",
    "#see https://stackoverflow.com/questions/54321290/how-to-convert-list-of-nested-dictionary-to-pandas-dataframe\n",
    "list_calls = [{**call.pop('attributes'), **call.pop('geometry')} for call in data['features']]\n",
    "df_detroit_api = pd.DataFrame(list_calls)\n",
    "df_detroit_api = df_detroit_api.drop(columns=['x','y'])\n",
    "df_detroit_api"
   ]
  },
  {
   "cell_type": "code",
   "execution_count": null,
   "id": "3f7499dd",
   "metadata": {},
   "outputs": [],
   "source": []
  }
 ],
 "metadata": {
  "kernelspec": {
   "display_name": "Python 3 (ipykernel)",
   "language": "python",
   "name": "python3"
  },
  "language_info": {
   "codemirror_mode": {
    "name": "ipython",
    "version": 3
   },
   "file_extension": ".py",
   "mimetype": "text/x-python",
   "name": "python",
   "nbconvert_exporter": "python",
   "pygments_lexer": "ipython3",
   "version": "3.10.12"
  }
 },
 "nbformat": 4,
 "nbformat_minor": 5
}
